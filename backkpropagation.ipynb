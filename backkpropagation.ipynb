{
 "cells": [
  {
   "cell_type": "code",
   "execution_count": 105,
   "metadata": {},
   "outputs": [],
   "source": [
    "import numpy as np"
   ]
  },
  {
   "cell_type": "code",
   "execution_count": 121,
   "metadata": {},
   "outputs": [
    {
     "name": "stdout",
     "output_type": "stream",
     "text": [
      "[[0.66666667 1.        ]\n",
      " [0.33333333 0.55555556]\n",
      " [1.         0.66666667]]\n"
     ]
    }
   ],
   "source": [
    "x = np.array(([2, 9], [1, 5], [3, 6]), dtype=float)\n",
    "y = np.array(([92], [86], [89]), dtype=float)\n",
    "\n",
    "x = x/np.amax(x,axis =0)\n",
    "y = y / 100\n",
    "print(x)"
   ]
  },
  {
   "cell_type": "code",
   "execution_count": 122,
   "metadata": {},
   "outputs": [],
   "source": [
    "def der_sigmoid(x):\n",
    "    return x * (1-x)"
   ]
  },
  {
   "cell_type": "code",
   "execution_count": 123,
   "metadata": {},
   "outputs": [],
   "source": [
    "epoch = 9000\n",
    "lr = 0.1\n",
    "inp_n = 2\n",
    "hid_n = 3\n",
    "out_n = 1\n",
    "\n",
    "wh = np.random.uniform(size = (inp_n, hid_n))\n",
    "bh = np.random.uniform(size = (1,hid_n))\n",
    "wo = np.random.uniform(size = ( hid_n,out_n))\n",
    "bo = np.random.uniform(size = (1,out_n))"
   ]
  },
  {
   "cell_type": "code",
   "execution_count": 124,
   "metadata": {},
   "outputs": [],
   "source": [
    "for i in range(epoch):\n",
    "    hid_inp = np.dot(x,wh) + bh\n",
    "    hid_out = sigmoid(hid_inp)\n",
    "    \n",
    "    out_inp = np.dot(hid_inp,wo) + bo\n",
    "    output = sigmoid(out_inp)\n",
    "    \n",
    "    EO = y - output\n",
    "    outgrade = der_sigmoid(output)\n",
    "    der_out = EO * outgrade\n",
    "    \n",
    "    EH = np.dot(der_out , wo.T)\n",
    "    hidgrade = der_sigmoid(hid_out)\n",
    "    der_hid = EH * hidgrade\n",
    "    \n",
    "    wh += np.dot(x.T,der_hid) * lr\n",
    "    bh += np.sum(der_hid , axis = 0 , keepdims=True) * lr\n",
    "    \n",
    "    wo += np.dot(hid_out.T,der_out) * lr\n",
    "    bo += np.sum(der_out , axis = 0 , keepdims=True) * lr\n",
    "    "
   ]
  },
  {
   "cell_type": "code",
   "execution_count": 125,
   "metadata": {
    "scrolled": true
   },
   "outputs": [
    {
     "data": {
      "text/plain": [
       "array([[0.90845522],\n",
       "       [0.85214359],\n",
       "       [0.91399937]])"
      ]
     },
     "execution_count": 125,
     "metadata": {},
     "output_type": "execute_result"
    }
   ],
   "source": [
    "output"
   ]
  },
  {
   "cell_type": "code",
   "execution_count": 92,
   "metadata": {},
   "outputs": [],
   "source": [
    "import numpy as np"
   ]
  },
  {
   "cell_type": "code",
   "execution_count": 99,
   "metadata": {},
   "outputs": [],
   "source": [
    "x = np.array(([2,9],[1,5],[3,6]),dtype = float)\n",
    "y = np.array(([71],[86],[89]),dtype = float)\n",
    "\n",
    "x = x/np.amax(x,axis=0)\n",
    "y = y/100\n"
   ]
  },
  {
   "cell_type": "code",
   "execution_count": 100,
   "metadata": {},
   "outputs": [],
   "source": [
    "def sigmoid(x):\n",
    "    return (1/(1+np.exp(-x)))"
   ]
  },
  {
   "cell_type": "code",
   "execution_count": 101,
   "metadata": {},
   "outputs": [],
   "source": [
    "def der_sigmoid(x):\n",
    "    return x*(1-x)"
   ]
  },
  {
   "cell_type": "code",
   "execution_count": 102,
   "metadata": {},
   "outputs": [],
   "source": [
    "epoch = 9000\n",
    "lr =0.1\n",
    "\n",
    "no_inp_neurons = 2\n",
    "no_hid_neurons = 3\n",
    "no_out_neurons = 1\n",
    "\n",
    "wh = np.random.uniform(size = (no_inp_neurons,no_hid_neurons))\n",
    "bh = np.random.uniform(size = (1,no_hid_neurons))\n",
    "wo = np.random.uniform(size = (no_hid_neurons,no_out_neurons))\n",
    "bo = np.random.uniform(size = (1,no_out_neurons))"
   ]
  },
  {
   "cell_type": "code",
   "execution_count": 109,
   "metadata": {},
   "outputs": [],
   "source": [
    "for i in range(epoch):\n",
    "    hid_inp = np.dot(x,wh) + bh\n",
    "    hid_out = sigmoid(hid_inp) \n",
    "    \n",
    "    out_inp = np.dot(hid_out,wo) + bo\n",
    "    output = sigmoid(out_inp)\n",
    "    \n",
    "    EO = y - output\n",
    "    outgrade = der_sigmoid(output)\n",
    "    der_out = EO * outgrade\n",
    "    \n",
    "    EH = np.dot(der_out,wo.T)\n",
    "    hidgrade = der_sigmoid(hid_out)\n",
    "    der_hid = EH * hidgrade\n",
    "    \n",
    "    wh += np.dot(x.T,der_hid) * lr\n",
    "    bh += np.sum(der_hid, axis =0 , keepdims = True) *lr\n",
    "    wo += np.dot(hid_out.T,der_out) *lr\n",
    "    bo += np.sum(der_out, axis=0 , keepdims=True) * lr"
   ]
  },
  {
   "cell_type": "code",
   "execution_count": 110,
   "metadata": {},
   "outputs": [
    {
     "data": {
      "text/plain": [
       "array([[0.88788157],\n",
       "       [0.88448801],\n",
       "       [0.89896758]])"
      ]
     },
     "execution_count": 110,
     "metadata": {},
     "output_type": "execute_result"
    }
   ],
   "source": [
    "output"
   ]
  }
 ],
 "metadata": {
  "kernelspec": {
   "display_name": "Python 3 (ipykernel)",
   "language": "python",
   "name": "python3"
  },
  "language_info": {
   "codemirror_mode": {
    "name": "ipython",
    "version": 3
   },
   "file_extension": ".py",
   "mimetype": "text/x-python",
   "name": "python",
   "nbconvert_exporter": "python",
   "pygments_lexer": "ipython3",
   "version": "3.10.2"
  }
 },
 "nbformat": 4,
 "nbformat_minor": 1
}
