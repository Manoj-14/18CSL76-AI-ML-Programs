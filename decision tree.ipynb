{
 "cells": [
  {
   "cell_type": "code",
   "execution_count": 136,
   "metadata": {},
   "outputs": [],
   "source": [
    "import numpy as np\n",
    "import pandas as pd\n",
    "from collections import Counter"
   ]
  },
  {
   "cell_type": "code",
   "execution_count": 25,
   "metadata": {},
   "outputs": [
    {
     "data": {
      "text/html": [
       "<div>\n",
       "<style scoped>\n",
       "    .dataframe tbody tr th:only-of-type {\n",
       "        vertical-align: middle;\n",
       "    }\n",
       "\n",
       "    .dataframe tbody tr th {\n",
       "        vertical-align: top;\n",
       "    }\n",
       "\n",
       "    .dataframe thead th {\n",
       "        text-align: right;\n",
       "    }\n",
       "</style>\n",
       "<table border=\"1\" class=\"dataframe\">\n",
       "  <thead>\n",
       "    <tr style=\"text-align: right;\">\n",
       "      <th></th>\n",
       "      <th>Outlook</th>\n",
       "      <th>Temperature</th>\n",
       "      <th>Humidity</th>\n",
       "      <th>Wind</th>\n",
       "      <th>Water</th>\n",
       "      <th>Play tennis</th>\n",
       "    </tr>\n",
       "  </thead>\n",
       "  <tbody>\n",
       "    <tr>\n",
       "      <th>0</th>\n",
       "      <td>sunny</td>\n",
       "      <td>warm</td>\n",
       "      <td>normal</td>\n",
       "      <td>strong</td>\n",
       "      <td>warm</td>\n",
       "      <td>yes</td>\n",
       "    </tr>\n",
       "    <tr>\n",
       "      <th>1</th>\n",
       "      <td>sunny</td>\n",
       "      <td>warm</td>\n",
       "      <td>high</td>\n",
       "      <td>strong</td>\n",
       "      <td>warm</td>\n",
       "      <td>yes</td>\n",
       "    </tr>\n",
       "    <tr>\n",
       "      <th>2</th>\n",
       "      <td>rain</td>\n",
       "      <td>cold</td>\n",
       "      <td>high</td>\n",
       "      <td>strong</td>\n",
       "      <td>warm</td>\n",
       "      <td>no</td>\n",
       "    </tr>\n",
       "    <tr>\n",
       "      <th>3</th>\n",
       "      <td>sunny</td>\n",
       "      <td>warm</td>\n",
       "      <td>high</td>\n",
       "      <td>strong</td>\n",
       "      <td>cool</td>\n",
       "      <td>yes</td>\n",
       "    </tr>\n",
       "    <tr>\n",
       "      <th>4</th>\n",
       "      <td>rain</td>\n",
       "      <td>warm</td>\n",
       "      <td>high</td>\n",
       "      <td>weak</td>\n",
       "      <td>cool</td>\n",
       "      <td>no</td>\n",
       "    </tr>\n",
       "    <tr>\n",
       "      <th>5</th>\n",
       "      <td>sunny</td>\n",
       "      <td>cold</td>\n",
       "      <td>normal</td>\n",
       "      <td>strong</td>\n",
       "      <td>cool</td>\n",
       "      <td>no</td>\n",
       "    </tr>\n",
       "  </tbody>\n",
       "</table>\n",
       "</div>"
      ],
      "text/plain": [
       "  Outlook Temperature Humidity    Wind Water Play tennis\n",
       "0   sunny        warm   normal  strong  warm         yes\n",
       "1   sunny        warm     high  strong  warm         yes\n",
       "2    rain        cold     high  strong  warm          no\n",
       "3   sunny        warm     high  strong  cool         yes\n",
       "4    rain        warm     high    weak  cool          no\n",
       "5   sunny        cold   normal  strong  cool          no"
      ]
     },
     "execution_count": 25,
     "metadata": {},
     "output_type": "execute_result"
    }
   ],
   "source": [
    "df = pd.DataFrame(pd.read_csv(\"PlayTennis.csv\"))\n",
    "df.head(6)"
   ]
  },
  {
   "cell_type": "code",
   "execution_count": 142,
   "metadata": {},
   "outputs": [],
   "source": [
    "def entropy(probs):\n",
    "    return np.sum([-prob * np.log2(prob) for prob in probs])"
   ]
  },
  {
   "cell_type": "code",
   "execution_count": 143,
   "metadata": {},
   "outputs": [],
   "source": [
    "def entropy_of_list(attr_list):\n",
    "    cnt = Counter(x for x in attr_list)\n",
    "    print(\"Count of Yes and No\",cnt)\n",
    "    no_of_instances = len(attr_list) * 1.0\n",
    "    probs = [x/no_of_instances for x in cnt.values()]\n",
    "    return entropy(probs)"
   ]
  },
  {
   "cell_type": "code",
   "execution_count": 10,
   "metadata": {},
   "outputs": [
    {
     "name": "stdout",
     "output_type": "stream",
     "text": [
      "Yes or No: Counter({'yes': 3, 'no': 3})\n"
     ]
    },
    {
     "data": {
      "text/plain": [
       "1.0"
      ]
     },
     "execution_count": 10,
     "metadata": {},
     "output_type": "execute_result"
    }
   ],
   "source": [
    "total_entropy = entropy_of_list(df[\"Play tennis\"])\n",
    "total_entropy"
   ]
  },
  {
   "cell_type": "code",
   "execution_count": 145,
   "metadata": {},
   "outputs": [],
   "source": [
    "def info_gain(df,attr,target,trace=0):\n",
    "    df_split = df.groupby(attr)\n",
    "    for i , rows in df_split:\n",
    "        print(i)\n",
    "        print(rows)        \n",
    "    nobs = len(df.index) * 1.0 \n",
    "    df_agg_ent = df_split.agg({target:[entropy_of_list,lambda x: len(x)/nobs]})[target]\n",
    "    df_agg_ent.columns = [\"Entropy\",\"PropObser\"]\n",
    "    new_entropy = np.sum(df_agg_ent[\"Entropy\"] * df_agg_ent[\"PropObser\"])\n",
    "    total_entropy = entropy_of_list(df[target])\n",
    "    return total_entropy - new_entropy"
   ]
  },
  {
   "cell_type": "code",
   "execution_count": 13,
   "metadata": {
    "scrolled": false
   },
   "outputs": [
    {
     "name": "stdout",
     "output_type": "stream",
     "text": [
      "Yes or No: Counter({'yes': 2, 'no': 2})\n",
      "Yes or No: Counter({'yes': 1, 'no': 1})\n",
      "Yes or No: Counter({'yes': 3, 'no': 3})\n",
      "Humidity 0.0\n",
      "Yes or No: Counter({'no': 2})\n",
      "Yes or No: Counter({'yes': 3, 'no': 1})\n",
      "Yes or No: Counter({'yes': 3, 'no': 3})\n",
      "Outlook 0.4591479170272448\n",
      "Yes or No: Counter({'no': 2})\n",
      "Yes or No: Counter({'yes': 3, 'no': 1})\n",
      "Yes or No: Counter({'yes': 3, 'no': 3})\n",
      "Temperature 0.4591479170272448\n",
      "Yes or No: Counter({'yes': 3, 'no': 2})\n",
      "Yes or No: Counter({'no': 1})\n",
      "Yes or No: Counter({'yes': 3, 'no': 3})\n",
      "Wind 0.19087450462110944\n",
      "Yes or No: Counter({'no': 2, 'yes': 1})\n",
      "Yes or No: Counter({'yes': 2, 'no': 1})\n",
      "Yes or No: Counter({'yes': 3, 'no': 3})\n",
      "Water 0.08170416594551044\n"
     ]
    }
   ],
   "source": [
    "print(\"Humidity\",info_gain(df,\"Humidity\",\"Play tennis\"))\n",
    "print(\"Outlook\",info_gain(df,\"Outlook\",\"Play tennis\"))\n",
    "print(\"Temperature\",info_gain(df,\"Temperature\",\"Play tennis\"))\n",
    "print(\"Wind\",info_gain(df,\"Wind\",\"Play tennis\"))\n",
    "print(\"Water\",info_gain(df,\"Water\",\"Play tennis\"))"
   ]
  },
  {
   "cell_type": "code",
   "execution_count": 1,
   "metadata": {},
   "outputs": [],
   "source": [
    "import numpy as np\n",
    "import pandas as pd\n",
    "from collections import Counter"
   ]
  },
  {
   "cell_type": "code",
   "execution_count": 2,
   "metadata": {},
   "outputs": [],
   "source": [
    "def entropy(probs):\n",
    "    return np.sum([(-prob*np.log2(prob)) for prob in probs])"
   ]
  },
  {
   "cell_type": "code",
   "execution_count": 6,
   "metadata": {},
   "outputs": [],
   "source": [
    "def entropy_of_list(attr_list):\n",
    "    cnt = Counter(x for x in attr_list)\n",
    "    print(\"Yes or No:\",cnt)\n",
    "    no_of_instances = len(attr_list) * 1.0\n",
    "    probs = [x/no_of_instances for x in cnt.values()]\n",
    "    return entropy(probs)"
   ]
  },
  {
   "cell_type": "code",
   "execution_count": 12,
   "metadata": {},
   "outputs": [],
   "source": [
    "def info_gain(df,attr,target,trace = 0):\n",
    "    df_split = df.groupby(attr)\n",
    "    nobs = len(df.index)\n",
    "    df_agg_ent = df_split.agg({target:[entropy_of_list,lambda x: len(x)/nobs ]})[target]\n",
    "    df_agg_ent.columns = [\"entropy\",\"propObr\"]\n",
    "    new_entropy = np.sum(df_agg_ent[\"entropy\"]*df_agg_ent[\"propObr\"])\n",
    "    total_entropy = entropy_of_list(df[target])\n",
    "    return total_entropy - new_entropy"
   ]
  },
  {
   "cell_type": "code",
   "execution_count": 65,
   "metadata": {},
   "outputs": [],
   "source": [
    "def id3(df,attrs,target,default = None):\n",
    "    print(df)\n",
    "    cnt = Counter(x for x in df[target])\n",
    "    if len(cnt) == 1:\n",
    "        return next(iter(cnt))\n",
    "    \n",
    "    elif df.empty or not(attrs):\n",
    "        return default\n",
    "    \n",
    "    else:\n",
    "        gain = [info_gain(df,attr,target) for attr in attrs]\n",
    "        index_of_max = gain.index(max(gain))\n",
    "        best_attr = attrs[index_of_max]\n",
    "        tree = {best_attr : {}}\n",
    "        rem_attrs = [i for i in attrs if i != best_attr]\n",
    "\n",
    "        \n",
    "        for subattr , subData in df.groupby(best_attr):\n",
    "            subTree = id3(subData,rem_attrs,target)\n",
    "            tree[best_attr][subattr] = subTree\n",
    "            \n",
    "        print(tree)\n",
    "            \n",
    "    return tree"
   ]
  },
  {
   "cell_type": "code",
   "execution_count": 66,
   "metadata": {},
   "outputs": [
    {
     "name": "stdout",
     "output_type": "stream",
     "text": [
      "Total attributs: ['Outlook', 'Temperature', 'Humidity', 'Wind', 'Water', 'Play tennis']\n",
      "Preicting attr ['Outlook', 'Temperature', 'Humidity', 'Wind', 'Water']\n",
      "Target attr: Play tennis\n"
     ]
    }
   ],
   "source": [
    "attr_names = list(df.columns)\n",
    "print(\"Total attributs:\",attr_names)\n",
    "target = attr_names[-1]\n",
    "attr_names = attr_names[:-1]\n",
    "print(\"Preicting attr\",attr_names)\n",
    "print(\"Target attr:\",target)"
   ]
  },
  {
   "cell_type": "code",
   "execution_count": 67,
   "metadata": {
    "scrolled": false
   },
   "outputs": [
    {
     "name": "stdout",
     "output_type": "stream",
     "text": [
      "  Outlook Temperature Humidity    Wind Water Play tennis\n",
      "0   sunny        warm   normal  strong  warm         yes\n",
      "1   sunny        warm     high  strong  warm         yes\n",
      "2    rain        cold     high  strong  warm          no\n",
      "3   sunny        warm     high  strong  cool         yes\n",
      "4    rain        warm     high    weak  cool          no\n",
      "5   sunny        cold   normal  strong  cool          no\n",
      "Yes or No: Counter({'no': 2})\n",
      "Yes or No: Counter({'yes': 3, 'no': 1})\n",
      "Yes or No: Counter({'yes': 3, 'no': 3})\n",
      "Yes or No: Counter({'no': 2})\n",
      "Yes or No: Counter({'yes': 3, 'no': 1})\n",
      "Yes or No: Counter({'yes': 3, 'no': 3})\n",
      "Yes or No: Counter({'yes': 2, 'no': 2})\n",
      "Yes or No: Counter({'yes': 1, 'no': 1})\n",
      "Yes or No: Counter({'yes': 3, 'no': 3})\n",
      "Yes or No: Counter({'yes': 3, 'no': 2})\n",
      "Yes or No: Counter({'no': 1})\n",
      "Yes or No: Counter({'yes': 3, 'no': 3})\n",
      "Yes or No: Counter({'no': 2, 'yes': 1})\n",
      "Yes or No: Counter({'yes': 2, 'no': 1})\n",
      "Yes or No: Counter({'yes': 3, 'no': 3})\n",
      "  Outlook Temperature Humidity    Wind Water Play tennis\n",
      "2    rain        cold     high  strong  warm          no\n",
      "4    rain        warm     high    weak  cool          no\n",
      "  Outlook Temperature Humidity    Wind Water Play tennis\n",
      "0   sunny        warm   normal  strong  warm         yes\n",
      "1   sunny        warm     high  strong  warm         yes\n",
      "3   sunny        warm     high  strong  cool         yes\n",
      "5   sunny        cold   normal  strong  cool          no\n",
      "Yes or No: Counter({'no': 1})\n",
      "Yes or No: Counter({'yes': 3})\n",
      "Yes or No: Counter({'yes': 3, 'no': 1})\n",
      "Yes or No: Counter({'yes': 2})\n",
      "Yes or No: Counter({'yes': 1, 'no': 1})\n",
      "Yes or No: Counter({'yes': 3, 'no': 1})\n",
      "Yes or No: Counter({'yes': 3, 'no': 1})\n",
      "Yes or No: Counter({'yes': 3, 'no': 1})\n",
      "Yes or No: Counter({'yes': 1, 'no': 1})\n",
      "Yes or No: Counter({'yes': 2})\n",
      "Yes or No: Counter({'yes': 3, 'no': 1})\n",
      "  Outlook Temperature Humidity    Wind Water Play tennis\n",
      "5   sunny        cold   normal  strong  cool          no\n",
      "  Outlook Temperature Humidity    Wind Water Play tennis\n",
      "0   sunny        warm   normal  strong  warm         yes\n",
      "1   sunny        warm     high  strong  warm         yes\n",
      "3   sunny        warm     high  strong  cool         yes\n",
      "{'Temperature': {'cold': 'no', 'warm': 'yes'}}\n",
      "{'Outlook': {'rain': 'no', 'sunny': {'Temperature': {'cold': 'no', 'warm': 'yes'}}}}\n"
     ]
    },
    {
     "data": {
      "text/plain": [
       "{'Outlook': {'rain': 'no',\n",
       "  'sunny': {'Temperature': {'cold': 'no', 'warm': 'yes'}}}}"
      ]
     },
     "execution_count": 67,
     "metadata": {},
     "output_type": "execute_result"
    }
   ],
   "source": [
    "id3(df,attr_names,target)"
   ]
  },
  {
   "cell_type": "code",
   "execution_count": 68,
   "metadata": {},
   "outputs": [
    {
     "name": "stdout",
     "output_type": "stream",
     "text": [
      "Yes or No: Counter({'Outlook': 1, 'Temperature': 1, 'Humidity': 1, 'Wind': 1, 'Water': 1})\n"
     ]
    },
    {
     "data": {
      "text/plain": [
       "2.321928094887362"
      ]
     },
     "execution_count": 68,
     "metadata": {},
     "output_type": "execute_result"
    }
   ],
   "source": [
    "entropy_of_list(attr_names)"
   ]
  },
  {
   "cell_type": "code",
   "execution_count": 69,
   "metadata": {},
   "outputs": [
    {
     "name": "stdout",
     "output_type": "stream",
     "text": [
      "Yes or No: Counter({'no': 2})\n",
      "Yes or No: Counter({'yes': 3, 'no': 1})\n",
      "Yes or No: Counter({'yes': 3, 'no': 3})\n"
     ]
    },
    {
     "data": {
      "text/plain": [
       "0.4591479170272448"
      ]
     },
     "execution_count": 69,
     "metadata": {},
     "output_type": "execute_result"
    }
   ],
   "source": [
    "info_gain(df,\"Outlook\",\"Play tennis\")"
   ]
  },
  {
   "cell_type": "code",
   "execution_count": null,
   "metadata": {},
   "outputs": [],
   "source": []
  }
 ],
 "metadata": {
  "kernelspec": {
   "display_name": "Python 3 (ipykernel)",
   "language": "python",
   "name": "python3"
  },
  "language_info": {
   "codemirror_mode": {
    "name": "ipython",
    "version": 3
   },
   "file_extension": ".py",
   "mimetype": "text/x-python",
   "name": "python",
   "nbconvert_exporter": "python",
   "pygments_lexer": "ipython3",
   "version": "3.10.2"
  }
 },
 "nbformat": 4,
 "nbformat_minor": 1
}
