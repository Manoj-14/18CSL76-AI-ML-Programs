{
 "cells": [
  {
   "cell_type": "code",
   "execution_count": 16,
   "metadata": {},
   "outputs": [],
   "source": [
    "class Graph:\n",
    "    \n",
    "    def __init__(self , adj_list):\n",
    "        self.adj_list = adj_list\n",
    "        \n",
    "    def get_neighbor(self, v):\n",
    "        return self.adj_list[v]\n",
    "    \n",
    "    def h(self,v):\n",
    "        H = {\n",
    "        'S': 14,\n",
    "        'B': 12,\n",
    "        'C': 11,\n",
    "        'D': 6,\n",
    "        'E': 4,\n",
    "        'F': 11,\n",
    "        'G': 10\n",
    "        }\n",
    "        return H[v]\n",
    "    \n",
    "    def a_star_algorithm(self, start , stop):\n",
    "        open_list = set([start])\n",
    "        closed_list = set([])\n",
    "        \n",
    "        par={start : start}\n",
    "        org ={start : 0}\n",
    "        poo= {start : 0}\n",
    "        \n",
    "        while len(open_list) >  0 :\n",
    "            n = None\n",
    "            for v in open_list:\n",
    "                if n is None or org[v]+self.h(v) < org[n] + self.h(v):\n",
    "                    n = v\n",
    "            \n",
    "            if n is None :\n",
    "                print(\"Path Does not exist\")\n",
    "                return\n",
    "            \n",
    "            if n == stop :\n",
    "                path = []\n",
    "                while par[n] != n:\n",
    "                    path.append(n)\n",
    "                    n = par[n]\n",
    "                    \n",
    "                path.append(start)\n",
    "                path.reverse()\n",
    "                print(\"Solution:\",path)\n",
    "                return\n",
    "            \n",
    "            for (m , weight) in self.get_neighbor(n):\n",
    "                \n",
    "                if m not in open_list and m not in closed_list :\n",
    "                    open_list.add(m)\n",
    "                    par[m] = n\n",
    "                    org[m]= org[n] + weight\n",
    "                    poo[m] = org[m] + self.h(m)\n",
    "                    \n",
    "                else :\n",
    "                    if poo[m] > org[n] + weight + self.h(m):\n",
    "                        poo[m] = org[n] + weight + self.h(m)\n",
    "                        par[m] = n\n",
    "                        if m in closed_list :\n",
    "                            closed_list.remove(m)\n",
    "                            open_list.add(m)\n",
    "            open_list.remove(n)\n",
    "            closed_list.add(n)"
   ]
  },
  {
   "cell_type": "code",
   "execution_count": 17,
   "metadata": {},
   "outputs": [],
   "source": [
    "adjac_lis = {\n",
    "'S': [('B', 4), ('C', 3)],\n",
    "'B': [('F', 5), ('E', 12)],\n",
    "'C': [('D', 7), ('E', 10)],\n",
    "'D': [('E', 2)],\n",
    "'E': [('G', 5)],\n",
    "'F': [('G', 16)]\n",
    "}"
   ]
  },
  {
   "cell_type": "code",
   "execution_count": 18,
   "metadata": {},
   "outputs": [
    {
     "name": "stdout",
     "output_type": "stream",
     "text": [
      "Solution: ['S', 'C', 'D', 'E', 'G']\n"
     ]
    }
   ],
   "source": [
    "graph = Graph(adjac_lis)\n",
    "graph.a_star_algorithm(\"S\",\"G\")"
   ]
  },
  {
   "cell_type": "code",
   "execution_count": 19,
   "metadata": {},
   "outputs": [],
   "source": [
    "class Graph:\n",
    "    def __init__(self,adj_graph):\n",
    "        self.adj_graph = adj_graph\n",
    "    \n",
    "    def get_neighbour(self,v):\n",
    "        return self.adj_graph[v]\n",
    "    \n",
    "    def h(self,v):\n",
    "        H = {\n",
    "        'S': 14,\n",
    "        'B': 12,\n",
    "        'C': 11,\n",
    "        'D': 6,\n",
    "        'E': 4,\n",
    "        'F': 11,\n",
    "        'G': 10\n",
    "        }\n",
    "        return H[v]\n",
    "    \n",
    "    def a_star_algo(self,start, stop):\n",
    "        open_list = set(start)\n",
    "        close_list = set()\n",
    "        \n",
    "        par = {start: start}\n",
    "        org = {start : 0}\n",
    "        poo = {start : 0}\n",
    "        \n",
    "        while len(open_list) > 0 :\n",
    "            n = None \n",
    "            for v in open_list :\n",
    "                if n is None  or org[n] +self.h(n) > org[v] + self.h(v):\n",
    "                    n=v\n",
    "            \n",
    "            if n is None :\n",
    "                print(\"Path does not exists\")\n",
    "                return \n",
    "            \n",
    "            if n == stop :\n",
    "                path = []\n",
    "                while par[n] != n :\n",
    "                    path.append(n)\n",
    "                    n = par[n]\n",
    "                    \n",
    "                path.append(start)\n",
    "                path.reverse()\n",
    "                \n",
    "                print(\"Solution:\",path)\n",
    "                return\n",
    "                \n",
    "            for (m,weight) in self.get_neighbour(n):\n",
    "                if m not in open_list and m not in close_list:\n",
    "                    open_list.add(m)\n",
    "                    par[m]  = n\n",
    "                    org[m] = org[n] + weight\n",
    "                    poo[m] = org[m] + self.h(m)\n",
    "                    \n",
    "                else :\n",
    "                    if poo[m] > org[n] + weight + self.h(m):\n",
    "                        poo[m] = org[n] + weight + self.h(m)\n",
    "                        par[m] = n\n",
    "                        if m in close_list:\n",
    "                            close_list.remove(m)\n",
    "                            open_list.add(m)\n",
    "                            \n",
    "            open_list.remove(n)\n",
    "            close_list.add(n)"
   ]
  },
  {
   "cell_type": "code",
   "execution_count": 20,
   "metadata": {},
   "outputs": [],
   "source": [
    "adjac_lis = {\n",
    "'S': [('B', 4), ('C', 3)],\n",
    "'B': [('F', 5), ('E', 12)],\n",
    "'C': [('D', 7), ('E', 10)],\n",
    "'D': [('E', 2)],\n",
    "'E': [('G', 5)],\n",
    "'F': [('G', 16)]\n",
    "}"
   ]
  },
  {
   "cell_type": "code",
   "execution_count": 21,
   "metadata": {},
   "outputs": [
    {
     "name": "stdout",
     "output_type": "stream",
     "text": [
      "Solution: ['S', 'C', 'D', 'E', 'G']\n"
     ]
    }
   ],
   "source": [
    "graph = Graph(adjac_lis)\n",
    "graph.a_star_algo(\"S\",\"G\")"
   ]
  }
 ],
 "metadata": {
  "kernelspec": {
   "display_name": "Python 3 (ipykernel)",
   "language": "python",
   "name": "python3"
  },
  "language_info": {
   "codemirror_mode": {
    "name": "ipython",
    "version": 3
   },
   "file_extension": ".py",
   "mimetype": "text/x-python",
   "name": "python",
   "nbconvert_exporter": "python",
   "pygments_lexer": "ipython3",
   "version": "3.10.2"
  }
 },
 "nbformat": 4,
 "nbformat_minor": 1
}
