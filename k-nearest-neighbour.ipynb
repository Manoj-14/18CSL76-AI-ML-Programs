{
 "cells": [
  {
   "cell_type": "code",
   "execution_count": 13,
   "metadata": {},
   "outputs": [],
   "source": [
    "import numpy as np\n",
    "import pandas as pd\n",
    "from sklearn.datasets import load_iris\n",
    "from sklearn.model_selection import train_test_split\n",
    "from sklearn.metrics import accuracy_score , confusion_matrix\n",
    "from sklearn.neighbors import KNeighborsClassifier"
   ]
  },
  {
   "cell_type": "code",
   "execution_count": 6,
   "metadata": {},
   "outputs": [
    {
     "name": "stdout",
     "output_type": "stream",
     "text": [
      "Size of Training dataset: (150, 4)\n",
      "Size of Training Target: (150,)\n"
     ]
    }
   ],
   "source": [
    "iris = load_iris()\n",
    "x = iris.data\n",
    "y = iris.target\n",
    "\n",
    "print(\"Size of Training dataset:\",x.shape)\n",
    "print(\"Size of Training Target:\",y.shape)"
   ]
  },
  {
   "cell_type": "code",
   "execution_count": 7,
   "metadata": {},
   "outputs": [
    {
     "name": "stdout",
     "output_type": "stream",
     "text": [
      "Size of Training data : (105, 4)\n",
      "Size of Training target : (105,)\n",
      "Size of Testing data : (45, 4)\n",
      "Size of Testing target : (45,)\n"
     ]
    }
   ],
   "source": [
    "x_train ,x_test ,y_train ,y_test = train_test_split(x,y,test_size = 0.3)\n",
    "\n",
    "print(\"Size of Training data :\",x_train.shape)\n",
    "print(\"Size of Training target :\",y_train.shape)\n",
    "\n",
    "print(\"Size of Testing data :\",x_test.shape)\n",
    "print(\"Size of Testing target :\",y_test.shape)"
   ]
  },
  {
   "cell_type": "code",
   "execution_count": 14,
   "metadata": {},
   "outputs": [
    {
     "name": "stdout",
     "output_type": "stream",
     "text": [
      "[1 2 0 0 0 0 0 0 2 1 2 1 1 0 1 1 2 2 0 2 0 2 0 1 1 2 0 0 1 1 1 1 2 2 0 2 1\n",
      " 1 2 1 1 2 2 1 1]\n"
     ]
    }
   ],
   "source": [
    "knn_model = KNeighborsClassifier()\n",
    "knn_model.fit(x_train,y_train)\n",
    "pred = knn_model.predict(x_test)\n",
    "print(pred)"
   ]
  },
  {
   "cell_type": "code",
   "execution_count": 15,
   "metadata": {},
   "outputs": [
    {
     "name": "stdout",
     "output_type": "stream",
     "text": [
      "Accuracy of training data: 0.9809523809523809\n",
      "Accuracy of testing data: 0.9777777777777777\n",
      "Confusion matrix of training data: [[37  0  0]\n",
      " [ 0 30  1]\n",
      " [ 0  1 36]]\n",
      "Confusion matrix of testing data: [[13  0  0]\n",
      " [ 0 18  1]\n",
      " [ 0  0 13]]\n"
     ]
    }
   ],
   "source": [
    "print(\"Accuracy of training data:\",accuracy_score(y_train,knn_model.predict(x_train)))\n",
    "print(\"Accuracy of testing data:\",accuracy_score(y_test,knn_model.predict(x_test)))\n",
    "print(\"Confusion matrix of training data:\",confusion_matrix(y_train,knn_model.predict(x_train)))\n",
    "print(\"Confusion matrix of testing data:\",confusion_matrix(y_test,knn_model.predict(x_test)))"
   ]
  },
  {
   "cell_type": "code",
   "execution_count": 1,
   "metadata": {},
   "outputs": [],
   "source": [
    "import numpy as np\n",
    "from sklearn.metrics import accuracy_score , confusion_matrix\n",
    "from sklearn.neighbors import KNeighborsClassifier\n",
    "from sklearn.model_selection import train_test_split\n",
    "from sklearn.datasets import load_iris"
   ]
  },
  {
   "cell_type": "code",
   "execution_count": 2,
   "metadata": {},
   "outputs": [
    {
     "name": "stdout",
     "output_type": "stream",
     "text": [
      "Shape of Training dataset: (150, 4)\n",
      "Shape of Testing dateset: (150,)\n"
     ]
    }
   ],
   "source": [
    "iris = load_iris()\n",
    "x = iris.data\n",
    "y = iris.target\n",
    "\n",
    "print(\"Shape of Training dataset:\",x.shape)\n",
    "print(\"Shape of Testing dateset:\",y.shape)"
   ]
  },
  {
   "cell_type": "code",
   "execution_count": 5,
   "metadata": {},
   "outputs": [
    {
     "name": "stdout",
     "output_type": "stream",
     "text": [
      "Shape of training dataset: (105, 4)\n",
      "Shape of training dataset: (105,)\n",
      "Shape of testing dataset (45, 4)\n",
      "Shape of testing dataset (45,)\n"
     ]
    }
   ],
   "source": [
    "x_train,x_test,y_train ,y_test = train_test_split(x,y,test_size=0.3, random_state=109)\n",
    "print(\"Shape of training dataset:\",x_train.shape)\n",
    "print(\"Shape of training dataset:\",y_train.shape)\n",
    "print(\"Shape of testing dataset\",x_test.shape)\n",
    "print(\"Shape of testing dataset\",y_test.shape)"
   ]
  },
  {
   "cell_type": "code",
   "execution_count": 6,
   "metadata": {},
   "outputs": [],
   "source": [
    "knn = KNeighborsClassifier()\n",
    "knn.fit(x_train,y_train)\n",
    "predict = knn.predict(x_test)"
   ]
  },
  {
   "cell_type": "code",
   "execution_count": 8,
   "metadata": {},
   "outputs": [
    {
     "name": "stdout",
     "output_type": "stream",
     "text": [
      "Accuracy of training dataset: 1.0\n",
      "Accuracy of testing dataset: 0.9111111111111111\n",
      "Confusion matrics of training dataset:\n",
      " [[38  0  0]\n",
      " [ 0 33  0]\n",
      " [ 0  0 34]]\n",
      "Confusion matrics of testing dataset:\n",
      " [[12  0  0]\n",
      " [ 0 15  2]\n",
      " [ 0  2 14]]\n"
     ]
    }
   ],
   "source": [
    "print(\"Accuracy of training dataset:\",accuracy_score(knn.predict(x_train),y_train))\n",
    "print(\"Accuracy of testing dataset:\",accuracy_score(knn.predict(x_test),y_test))\n",
    "\n",
    "print(\"Confusion matrics of training dataset:\\n\",confusion_matrix(knn.predict(x_train),y_train))\n",
    "print(\"Confusion matrics of testing dataset:\\n\",confusion_matrix(knn.predict(x_test),y_test))"
   ]
  }
 ],
 "metadata": {
  "kernelspec": {
   "display_name": "Python 3 (ipykernel)",
   "language": "python",
   "name": "python3"
  },
  "language_info": {
   "codemirror_mode": {
    "name": "ipython",
    "version": 3
   },
   "file_extension": ".py",
   "mimetype": "text/x-python",
   "name": "python",
   "nbconvert_exporter": "python",
   "pygments_lexer": "ipython3",
   "version": "3.10.2"
  }
 },
 "nbformat": 4,
 "nbformat_minor": 1
}
